{
  "cells": [
    {
      "cell_type": "markdown",
      "metadata": {
        "id": "ZXFdM0UOpujP"
      },
      "source": [
        "Para gerar um arquivo pdf a partir do Jupyter Notebook, você precisar ter instalado em seu computador:\n",
        "    \n",
        "    MiKTeX e Pandoc (Windows)\n",
        "    LaTeX e Pandoc (Mac)\n",
        "    TeX Live e Pandoc (linux)\n",
        "    \n",
        "Neste link você encontra todas as informações: http://pandoc.org/installing.html"
      ]
    },
    {
      "cell_type": "markdown",
      "metadata": {
        "id": "Q9DRenvNpujQ"
      },
      "source": [
        "## Computação com Numpy"
      ]
    },
    {
      "cell_type": "code",
      "execution_count": 1,
      "metadata": {
        "collapsed": true,
        "id": "Ra-6t9URpujQ"
      },
      "outputs": [],
      "source": [
        "# Importando o módulo Numpy\n",
        "import numpy as np"
      ]
    },
    {
      "cell_type": "markdown",
      "metadata": {
        "id": "lBYo1UEapujS"
      },
      "source": [
        "<h2>Criando Estruturas de Dados NumPy</h2>"
      ]
    },
    {
      "cell_type": "code",
      "execution_count": 2,
      "metadata": {
        "id": "aIG2obHQpujS"
      },
      "outputs": [],
      "source": [
        "# Criando array unidimensional\n",
        "array1 = np.array([10, 20, 30, 40])"
      ]
    },
    {
      "cell_type": "code",
      "execution_count": 3,
      "metadata": {
        "collapsed": true,
        "id": "GmdbMWdFpujS"
      },
      "outputs": [],
      "source": [
        "# Criando array bi-dimensional\n",
        "array2 = np.array([[100, 83, 15],[42, 78, 0]])"
      ]
    },
    {
      "cell_type": "code",
      "execution_count": 4,
      "metadata": {
        "colab": {
          "base_uri": "https://localhost:8080/"
        },
        "id": "l2U45LsNpujT",
        "outputId": "b43c9079-2c4d-45a3-faed-7b2fe2a138a1"
      },
      "outputs": [
        {
          "output_type": "execute_result",
          "data": {
            "text/plain": [
              "array([10, 20, 30, 40])"
            ]
          },
          "metadata": {},
          "execution_count": 4
        }
      ],
      "source": [
        "array1"
      ]
    },
    {
      "cell_type": "code",
      "execution_count": 5,
      "metadata": {
        "colab": {
          "base_uri": "https://localhost:8080/"
        },
        "id": "7AwJf76EpujT",
        "outputId": "5fe75067-afdf-4d38-e25b-6a5f241d08d2"
      },
      "outputs": [
        {
          "output_type": "execute_result",
          "data": {
            "text/plain": [
              "array([[100,  83,  15],\n",
              "       [ 42,  78,   0]])"
            ]
          },
          "metadata": {},
          "execution_count": 5
        }
      ],
      "source": [
        "array2"
      ]
    },
    {
      "cell_type": "code",
      "execution_count": 6,
      "metadata": {
        "colab": {
          "base_uri": "https://localhost:8080/"
        },
        "id": "JZd25fsWpujT",
        "outputId": "252d09ba-eb0c-4fad-a15b-87968b08a160"
      },
      "outputs": [
        {
          "output_type": "execute_result",
          "data": {
            "text/plain": [
              "(4,)"
            ]
          },
          "metadata": {},
          "execution_count": 6
        }
      ],
      "source": [
        "# Verificando o formato (shape) do array\n",
        "array1.shape"
      ]
    },
    {
      "cell_type": "code",
      "execution_count": 7,
      "metadata": {
        "colab": {
          "base_uri": "https://localhost:8080/"
        },
        "id": "pwdk_DNypujU",
        "outputId": "c93824fd-efb4-4b94-be84-a0e917671e11"
      },
      "outputs": [
        {
          "output_type": "execute_result",
          "data": {
            "text/plain": [
              "(2, 3)"
            ]
          },
          "metadata": {},
          "execution_count": 7
        }
      ],
      "source": [
        "# Verificando o formato (shape) do array\n",
        "array2.shape"
      ]
    },
    {
      "cell_type": "code",
      "execution_count": 8,
      "metadata": {
        "colab": {
          "base_uri": "https://localhost:8080/"
        },
        "id": "AP9AYs7JpujU",
        "outputId": "b541fa52-0d47-48b5-b9bc-391c9fff7153"
      },
      "outputs": [
        {
          "output_type": "execute_result",
          "data": {
            "text/plain": [
              "2"
            ]
          },
          "metadata": {},
          "execution_count": 8
        }
      ],
      "source": [
        "# Verificando o número de dimensões\n",
        "array2.ndim"
      ]
    },
    {
      "cell_type": "markdown",
      "metadata": {
        "id": "ZPyt-6ebpujU"
      },
      "source": [
        "<h2>Em Python TUDO é objeto, com métodos e atributos</h2>\n",
        "\n",
        "### Método - realiza ação no objeto\n",
        "### Atributo - característica do objeto"
      ]
    },
    {
      "cell_type": "code",
      "execution_count": 9,
      "metadata": {
        "colab": {
          "base_uri": "https://localhost:8080/"
        },
        "id": "3GQWJLgBpujU",
        "outputId": "2da61777-9761-45eb-f6bc-c24221cb03b8"
      },
      "outputs": [
        {
          "output_type": "execute_result",
          "data": {
            "text/plain": [
              "100"
            ]
          },
          "metadata": {},
          "execution_count": 9
        }
      ],
      "source": [
        "# Método\n",
        "array2.max()"
      ]
    },
    {
      "cell_type": "code",
      "execution_count": null,
      "metadata": {
        "id": "kL1aAY1CpujV"
      },
      "outputs": [],
      "source": [
        "# Atributo\n",
        "array2.ndim"
      ]
    },
    {
      "cell_type": "markdown",
      "metadata": {
        "id": "OjQs06nxpujV"
      },
      "source": [
        "<h2>Criando estruturas de dados com arange</h2>"
      ]
    },
    {
      "cell_type": "code",
      "execution_count": null,
      "metadata": {
        "id": "or7FTOOPpujV"
      },
      "outputs": [],
      "source": [
        "array3 = np.arange(15)"
      ]
    },
    {
      "cell_type": "code",
      "execution_count": null,
      "metadata": {
        "id": "SpQpXBT3pujV"
      },
      "outputs": [],
      "source": [
        "array3"
      ]
    },
    {
      "cell_type": "code",
      "execution_count": null,
      "metadata": {
        "id": "zmKjRuyzpujV"
      },
      "outputs": [],
      "source": [
        "# Usando start/end (exclusive)\n",
        "array4 = np.arange(0, 15, 5)"
      ]
    },
    {
      "cell_type": "code",
      "execution_count": null,
      "metadata": {
        "id": "_-uML2x9pujV",
        "outputId": "20a50039-4146-479a-ef24-831631cec2fd"
      },
      "outputs": [
        {
          "data": {
            "text/plain": [
              "array([ 0,  5, 10])"
            ]
          },
          "execution_count": 3,
          "metadata": {},
          "output_type": "execute_result"
        }
      ],
      "source": [
        "array4"
      ]
    },
    {
      "cell_type": "markdown",
      "metadata": {
        "id": "dGgpIw_YpujW"
      },
      "source": [
        "<h2>Criando estruturas de dados com linspace</h2>"
      ]
    },
    {
      "cell_type": "code",
      "execution_count": null,
      "metadata": {
        "id": "-yNWVZWapujX"
      },
      "outputs": [],
      "source": [
        "# Argumentos: (start, end, number of elements)\n",
        "array5 = np.linspace(0, 3, 4); array5"
      ]
    },
    {
      "cell_type": "markdown",
      "metadata": {
        "id": "fJXOAtt3pujX"
      },
      "source": [
        "<h2>Criando estruturas de dados com outras funções</h2>"
      ]
    },
    {
      "cell_type": "markdown",
      "metadata": {
        "id": "FLkuxpaBpujX"
      },
      "source": [
        "<h3>numpy.zeros</h3>"
      ]
    },
    {
      "cell_type": "code",
      "execution_count": null,
      "metadata": {
        "id": "p4Y5a6WPpujX"
      },
      "outputs": [],
      "source": [
        "# Array 10x8 de zeros\n",
        "array6 = np.zeros((10, 8)); array6"
      ]
    },
    {
      "cell_type": "markdown",
      "metadata": {
        "id": "uNxefhpLpujX"
      },
      "source": [
        "<h3>numpy.ones</h3>"
      ]
    },
    {
      "cell_type": "code",
      "execution_count": null,
      "metadata": {
        "id": "80XpZuNkpujX"
      },
      "outputs": [],
      "source": [
        "# Array 2x3x2 de 1's\n",
        "array7 = np.ones((2, 3, 2)); array7"
      ]
    },
    {
      "cell_type": "markdown",
      "metadata": {
        "collapsed": true,
        "id": "aBgJDLw_pujY"
      },
      "source": [
        "<h3>numpy.eye</h3>"
      ]
    },
    {
      "cell_type": "code",
      "execution_count": null,
      "metadata": {
        "id": "URLNk8_mpujY"
      },
      "outputs": [],
      "source": [
        "# Produz uma Identitiy Matrix\n",
        "array8 = np.eye(3); array8"
      ]
    },
    {
      "cell_type": "markdown",
      "metadata": {
        "id": "cKZEUdN7pujY"
      },
      "source": [
        "<h3>numpy.diag</h3>"
      ]
    },
    {
      "cell_type": "code",
      "execution_count": null,
      "metadata": {
        "id": "yK5-tTpUpujY"
      },
      "outputs": [],
      "source": [
        "# Matriz diagonal\n",
        "array9 = np.diag((2,1,4,6)); array9"
      ]
    },
    {
      "cell_type": "markdown",
      "metadata": {
        "collapsed": false,
        "id": "ULVcBCldpujY"
      },
      "source": [
        "<h3>numpy.random.rand</h3>"
      ]
    },
    {
      "cell_type": "code",
      "execution_count": null,
      "metadata": {
        "id": "Qx_zpC8KpujY",
        "outputId": "64d329ea-c3af-4160-eaad-f07199959737"
      },
      "outputs": [
        {
          "data": {
            "text/plain": [
              "array([ 0.54340494,  0.27836939,  0.42451759,  0.84477613,  0.00471886])"
            ]
          },
          "execution_count": 4,
          "metadata": {},
          "output_type": "execute_result"
        }
      ],
      "source": [
        "# A função rand(n) produz uma sequência de números uniformemente distirbuídos com range de 0 a n\n",
        "np.random.seed(100) # Set seed\n",
        "array10 = np.random.rand(5); array10"
      ]
    },
    {
      "cell_type": "code",
      "execution_count": null,
      "metadata": {
        "id": "82p-ghUWpujY",
        "outputId": "f5afb0d8-f358-4d22-dc47-a166e706748a"
      },
      "outputs": [
        {
          "data": {
            "text/plain": [
              "array([ 0.35467445, -0.78606433, -0.2318722 ,  0.20797568,  0.93580797])"
            ]
          },
          "execution_count": 5,
          "metadata": {},
          "output_type": "execute_result"
        }
      ],
      "source": [
        "# A função randn(n) produz uma sequência de números com distribuição normal (Gaussian)\n",
        "array11 = np.random.randn(5); array11"
      ]
    },
    {
      "cell_type": "markdown",
      "metadata": {
        "id": "cIT5jeVBpujY"
      },
      "source": [
        "<h3>numpy.empty</h3>"
      ]
    },
    {
      "cell_type": "code",
      "execution_count": null,
      "metadata": {
        "id": "tseBQUt3pujZ"
      },
      "outputs": [],
      "source": [
        "array12 = np.empty((3,2)); array12"
      ]
    },
    {
      "cell_type": "markdown",
      "metadata": {
        "id": "kreFj88ZpujZ"
      },
      "source": [
        "<h3>numpy.tile</h3>"
      ]
    },
    {
      "cell_type": "code",
      "execution_count": null,
      "metadata": {
        "id": "yTtD2xVApujZ"
      },
      "outputs": [],
      "source": [
        "np.array([[9, 4], [3, 7]])"
      ]
    },
    {
      "cell_type": "code",
      "execution_count": null,
      "metadata": {
        "id": "g-mv3f3zpujZ"
      },
      "outputs": [],
      "source": [
        "np.tile(np.array([[9, 4], [3, 7]]), 4)"
      ]
    },
    {
      "cell_type": "code",
      "execution_count": null,
      "metadata": {
        "id": "3_RDJy9Opujd"
      },
      "outputs": [],
      "source": [
        "np.tile(np.array([[9, 4], [3, 7]]), (2,2))"
      ]
    },
    {
      "cell_type": "markdown",
      "metadata": {
        "id": "6BrQKmWipujd"
      },
      "source": [
        "<h2>Tipos de Dados NumPy</h2>"
      ]
    },
    {
      "cell_type": "code",
      "execution_count": null,
      "metadata": {
        "id": "WXB9ga2fpujd"
      },
      "outputs": [],
      "source": [
        "array13 = np.array([8, -3, 5, 9], dtype = 'float')"
      ]
    },
    {
      "cell_type": "code",
      "execution_count": null,
      "metadata": {
        "id": "k8HgchCApuje"
      },
      "outputs": [],
      "source": [
        "array13"
      ]
    },
    {
      "cell_type": "code",
      "execution_count": null,
      "metadata": {
        "id": "bMc4kO09puje"
      },
      "outputs": [],
      "source": [
        "array13.dtype"
      ]
    },
    {
      "cell_type": "code",
      "execution_count": null,
      "metadata": {
        "id": "vj97dv0Jpuje"
      },
      "outputs": [],
      "source": [
        "array14 = np.array([2, 4, 6, 8])"
      ]
    },
    {
      "cell_type": "code",
      "execution_count": null,
      "metadata": {
        "id": "jHWdyAhupuje"
      },
      "outputs": [],
      "source": [
        "array14"
      ]
    },
    {
      "cell_type": "code",
      "execution_count": null,
      "metadata": {
        "id": "TGgTlP_3puje"
      },
      "outputs": [],
      "source": [
        "array14.dtype"
      ]
    },
    {
      "cell_type": "code",
      "execution_count": null,
      "metadata": {
        "id": "gFXiS6pIpujf"
      },
      "outputs": [],
      "source": [
        "array15 = np.array([2.0, 4, 6, 8])"
      ]
    },
    {
      "cell_type": "code",
      "execution_count": null,
      "metadata": {
        "id": "IX3sFUEwpujf"
      },
      "outputs": [],
      "source": [
        "array15.dtype"
      ]
    },
    {
      "cell_type": "code",
      "execution_count": null,
      "metadata": {
        "id": "q-H1Pbh5pujf"
      },
      "outputs": [],
      "source": [
        "array16 = np.array(['Análise','de','Dados','com Python'])"
      ]
    },
    {
      "cell_type": "code",
      "execution_count": null,
      "metadata": {
        "id": "38oHDgQUpujf"
      },
      "outputs": [],
      "source": [
        "array16.dtype"
      ]
    },
    {
      "cell_type": "code",
      "execution_count": null,
      "metadata": {
        "id": "d-Igpv25pujf"
      },
      "outputs": [],
      "source": [
        "array17 = np.array([True, False, True])"
      ]
    },
    {
      "cell_type": "code",
      "execution_count": null,
      "metadata": {
        "id": "_jrcGM4Dpujf"
      },
      "outputs": [],
      "source": [
        "array17.dtype"
      ]
    },
    {
      "cell_type": "code",
      "execution_count": null,
      "metadata": {
        "id": "rROFsC8hpujf"
      },
      "outputs": [],
      "source": [
        "array18 = np.array([7, -3, 5.24])"
      ]
    },
    {
      "cell_type": "code",
      "execution_count": null,
      "metadata": {
        "id": "dH3efMDBpujg"
      },
      "outputs": [],
      "source": [
        "array18.dtype"
      ]
    },
    {
      "cell_type": "code",
      "execution_count": null,
      "metadata": {
        "id": "5NtSI1xRpujg"
      },
      "outputs": [],
      "source": [
        "array18.astype(int)"
      ]
    },
    {
      "cell_type": "markdown",
      "metadata": {
        "id": "W-DOxAxdpujg"
      },
      "source": [
        "<h2>Operações com Arrays</h2>"
      ]
    },
    {
      "cell_type": "code",
      "execution_count": null,
      "metadata": {
        "collapsed": true,
        "id": "5IIx1_4Fpujg"
      },
      "outputs": [],
      "source": [
        "# Array começando por 0, com 30 elementos e multiplicado po 5\n",
        "array19 = np.arange(0, 30) * 5"
      ]
    },
    {
      "cell_type": "code",
      "execution_count": null,
      "metadata": {
        "id": "dvgxujGRpujg"
      },
      "outputs": [],
      "source": [
        "array19"
      ]
    },
    {
      "cell_type": "code",
      "execution_count": null,
      "metadata": {
        "collapsed": true,
        "id": "mwx7j1sQpujg"
      },
      "outputs": [],
      "source": [
        "array19 = np.arange(0, 30)"
      ]
    },
    {
      "cell_type": "code",
      "execution_count": null,
      "metadata": {
        "id": "CqLSefNqpujg"
      },
      "outputs": [],
      "source": [
        "array19"
      ]
    },
    {
      "cell_type": "code",
      "execution_count": null,
      "metadata": {
        "collapsed": true,
        "id": "U9mBIU5npujg"
      },
      "outputs": [],
      "source": [
        "# Elevando um array a potência\n",
        "array20 = np.arange(5) ** 4"
      ]
    },
    {
      "cell_type": "code",
      "execution_count": null,
      "metadata": {
        "id": "vfIZw-Yjpujh"
      },
      "outputs": [],
      "source": [
        "array20"
      ]
    },
    {
      "cell_type": "code",
      "execution_count": null,
      "metadata": {
        "collapsed": true,
        "id": "J7eDJeITpujh"
      },
      "outputs": [],
      "source": [
        "# Somando um número a cada elemento do array\n",
        "array21 = np.arange(0, 30) + 1"
      ]
    },
    {
      "cell_type": "code",
      "execution_count": null,
      "metadata": {
        "id": "7IPDXGvQpujh"
      },
      "outputs": [],
      "source": [
        "array21"
      ]
    },
    {
      "cell_type": "code",
      "execution_count": null,
      "metadata": {
        "collapsed": true,
        "id": "8S7fe3Umpujh"
      },
      "outputs": [],
      "source": [
        "array22 = np.arange(0, 30,3) + 3\n",
        "array23 = np.arange(1,11)"
      ]
    },
    {
      "cell_type": "code",
      "execution_count": null,
      "metadata": {
        "id": "Kp-I8Jgmpujh"
      },
      "outputs": [],
      "source": [
        "array22"
      ]
    },
    {
      "cell_type": "code",
      "execution_count": null,
      "metadata": {
        "id": "2WJys1i1pujh"
      },
      "outputs": [],
      "source": [
        "array23"
      ]
    },
    {
      "cell_type": "code",
      "execution_count": null,
      "metadata": {
        "id": "NtrDMMqdpuji"
      },
      "outputs": [],
      "source": [
        "# Subtração\n",
        "array22 - array23"
      ]
    },
    {
      "cell_type": "code",
      "execution_count": null,
      "metadata": {
        "id": "3CQiyTTYpuji"
      },
      "outputs": [],
      "source": [
        "# Soma\n",
        "array22 + array23"
      ]
    },
    {
      "cell_type": "code",
      "execution_count": null,
      "metadata": {
        "id": "JY8ZjZDLpuji"
      },
      "outputs": [],
      "source": [
        "# Divisão\n",
        "array22 / array23"
      ]
    },
    {
      "cell_type": "code",
      "execution_count": null,
      "metadata": {
        "id": "ibrnJqFupuji"
      },
      "outputs": [],
      "source": [
        "# Multiplicação\n",
        "array22 * array23"
      ]
    },
    {
      "cell_type": "code",
      "execution_count": null,
      "metadata": {
        "id": "IFHYOpowpuji"
      },
      "outputs": [],
      "source": [
        "# Podemos ainda comprar arrays\n",
        "array22 > array23"
      ]
    },
    {
      "cell_type": "code",
      "execution_count": null,
      "metadata": {
        "id": "uX7KrEkKpuji"
      },
      "outputs": [],
      "source": [
        "arr1 = np.array([True,False,True,False])\n",
        "arr2 = np.array([False,False,True, False])\n",
        "np.logical_and(arr1, arr2)"
      ]
    },
    {
      "cell_type": "markdown",
      "metadata": {
        "id": "4t9FHZ6Jpuji"
      },
      "source": [
        "### Podemos criar arrays com Python, sem usar o módulo NumPy. Porém o NumPy é muito mais rápido"
      ]
    },
    {
      "cell_type": "code",
      "execution_count": null,
      "metadata": {
        "id": "5HvbQk9Bpuji",
        "outputId": "82cafa80-e2a7-4cd4-b10d-b3f5f1a38b21"
      },
      "outputs": [
        {
          "name": "stderr",
          "output_type": "stream",
          "text": [
            "C:\\Users\\RILDO\\Anaconda3\\lib\\site-packages\\ipykernel\\__main__.py:257: RuntimeWarning: invalid value encountered in power\n"
          ]
        },
        {
          "name": "stdout",
          "output_type": "stream",
          "text": [
            "10000 loops, best of 3: 56.8 µs per loop\n"
          ]
        }
      ],
      "source": [
        "array_numpy = np.arange(1000)\n",
        "%timeit array_numpy ** 4"
      ]
    },
    {
      "cell_type": "code",
      "execution_count": null,
      "metadata": {
        "id": "jUF5hQiApujj",
        "outputId": "6f63eb81-1ef3-42de-910d-64c8aa4b67c5"
      },
      "outputs": [
        {
          "name": "stdout",
          "output_type": "stream",
          "text": [
            "The slowest run took 5.34 times longer than the fastest. This could mean that an intermediate result is being cached.\n",
            "1000 loops, best of 3: 657 µs per loop\n"
          ]
        }
      ],
      "source": [
        "array_python = range(1000)\n",
        "%timeit [array_python[i] ** 4 for i in array_python]"
      ]
    },
    {
      "cell_type": "markdown",
      "metadata": {
        "id": "aV4W44VIpujj"
      },
      "source": [
        "A métrica µs significa microsegundos."
      ]
    },
    {
      "cell_type": "markdown",
      "metadata": {
        "collapsed": true,
        "id": "VTF--i-ypujj"
      },
      "source": [
        "# Fim"
      ]
    }
  ],
  "metadata": {
    "anaconda-cloud": {},
    "kernelspec": {
      "display_name": "Python [Root]",
      "language": "python",
      "name": "Python [Root]"
    },
    "language_info": {
      "codemirror_mode": {
        "name": "ipython",
        "version": 3
      },
      "file_extension": ".py",
      "mimetype": "text/x-python",
      "name": "python",
      "nbconvert_exporter": "python",
      "pygments_lexer": "ipython3",
      "version": "3.5.2"
    },
    "colab": {
      "provenance": []
    }
  },
  "nbformat": 4,
  "nbformat_minor": 0
}